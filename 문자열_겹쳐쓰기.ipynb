{
  "nbformat": 4,
  "nbformat_minor": 0,
  "metadata": {
    "colab": {
      "provenance": [],
      "authorship_tag": "ABX9TyPuZqcvFnvPKPu4raQiv3ye",
      "include_colab_link": true
    },
    "kernelspec": {
      "name": "python3",
      "display_name": "Python 3"
    },
    "language_info": {
      "name": "python"
    }
  },
  "cells": [
    {
      "cell_type": "markdown",
      "metadata": {
        "id": "view-in-github",
        "colab_type": "text"
      },
      "source": [
        "<a href=\"https://colab.research.google.com/github/dennismingming/programmers/blob/main/%EB%AC%B8%EC%9E%90%EC%97%B4_%EA%B2%B9%EC%B3%90%EC%93%B0%EA%B8%B0.ipynb\" target=\"_parent\"><img src=\"https://colab.research.google.com/assets/colab-badge.svg\" alt=\"Open In Colab\"/></a>"
      ]
    },
    {
      "cell_type": "code",
      "execution_count": 1,
      "metadata": {
        "id": "qg-KbxT_TIe8"
      },
      "outputs": [],
      "source": [
        "def solution(my_string, overwrite_string, s):\n",
        "    temp = ''\n",
        "    for i in range(len(my_string)):\n",
        "        if i > s-1 and i < len(overwrite_string)+ s:\n",
        "            temp = temp + overwrite_string[i - s]\n",
        "        else:\n",
        "            temp = temp + my_string[i]\n",
        "    answer = temp\n",
        "    return answer"
      ]
    },
    {
      "cell_type": "markdown",
      "source": [
        "https://school.programmers.co.kr/learn/courses/30/lessons/181943"
      ],
      "metadata": {
        "id": "UauyfiWeTK9y"
      }
    }
  ]
}