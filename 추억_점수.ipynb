{
  "nbformat": 4,
  "nbformat_minor": 0,
  "metadata": {
    "colab": {
      "provenance": [],
      "authorship_tag": "ABX9TyNFZdDs9HwctOYe6fd0ooen",
      "include_colab_link": true
    },
    "kernelspec": {
      "name": "python3",
      "display_name": "Python 3"
    },
    "language_info": {
      "name": "python"
    }
  },
  "cells": [
    {
      "cell_type": "markdown",
      "metadata": {
        "id": "view-in-github",
        "colab_type": "text"
      },
      "source": [
        "<a href=\"https://colab.research.google.com/github/dennismingming/programmers/blob/main/%EC%B6%94%EC%96%B5_%EC%A0%90%EC%88%98.ipynb\" target=\"_parent\"><img src=\"https://colab.research.google.com/assets/colab-badge.svg\" alt=\"Open In Colab\"/></a>"
      ]
    },
    {
      "cell_type": "code",
      "execution_count": null,
      "metadata": {
        "id": "2S-eIKMz1_dH"
      },
      "outputs": [],
      "source": [
        "def solution(name, yearning, photo):\n",
        "    # 1. 반환할 결괏값 선언과 이름과 그리움 점수를 묶어준다.\n",
        "    result = []\n",
        "    info = dict(zip(name, yearning))\n",
        "\n",
        "    # 2. 사진 속 사람들을 확인할 for loop\n",
        "    for people in photo:\n",
        "\n",
        "        # 3. 그리움 점수 누적을 위한 변수 선언\n",
        "        score = 0\n",
        "\n",
        "        # 4. 사람들 각각의 점수를 확인할 for loop\n",
        "        for person in people:\n",
        "            # 5. 사람 별 점수를 누적, 없는 사람은 0\n",
        "            score += info.get(person, 0)\n",
        "        # 6. 결과 배열에 담아주기\n",
        "        result.append(score)"
      ]
    },
    {
      "cell_type": "markdown",
      "source": [
        "https://school.programmers.co.kr/learn/courses/30/lessons/176963"
      ],
      "metadata": {
        "id": "FPUL2oSF2D6P"
      }
    }
  ]
}